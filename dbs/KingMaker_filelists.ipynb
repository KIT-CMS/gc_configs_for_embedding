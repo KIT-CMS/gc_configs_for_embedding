{
 "cells": [
  {
   "cell_type": "code",
   "execution_count": 1,
   "metadata": {},
   "outputs": [
    {
     "ename": "FileNotFoundError",
     "evalue": "[Errno 2] No such file or directory: '/work/sbrommer/ntuple_prototype/KingMaker/sample_database/datasets.yaml'",
     "output_type": "error",
     "traceback": [
      "\u001b[0;31m---------------------------------------------------------------------------\u001b[0m",
      "\u001b[0;31mFileNotFoundError\u001b[0m                         Traceback (most recent call last)",
      "\u001b[0;32m/tmp/ipykernel_2715867/1083836497.py\u001b[0m in \u001b[0;36m<module>\u001b[0;34m\u001b[0m\n\u001b[1;32m     22\u001b[0m \u001b[0;34m\u001b[0m\u001b[0m\n\u001b[1;32m     23\u001b[0m \u001b[0mdefault_database\u001b[0m \u001b[0;34m=\u001b[0m \u001b[0;34m\"/work/sbrommer/ntuple_prototype/KingMaker/sample_database/datasets.yaml\"\u001b[0m\u001b[0;34m\u001b[0m\u001b[0;34m\u001b[0m\u001b[0m\n\u001b[0;32m---> 24\u001b[0;31m \u001b[0;32mwith\u001b[0m \u001b[0mopen\u001b[0m\u001b[0;34m(\u001b[0m\u001b[0mdefault_database\u001b[0m\u001b[0;34m,\u001b[0m \u001b[0;34m\"r\"\u001b[0m\u001b[0;34m)\u001b[0m \u001b[0;32mas\u001b[0m \u001b[0mf\u001b[0m\u001b[0;34m:\u001b[0m\u001b[0;34m\u001b[0m\u001b[0;34m\u001b[0m\u001b[0m\n\u001b[0m\u001b[1;32m     25\u001b[0m     \u001b[0mdatabase\u001b[0m \u001b[0;34m=\u001b[0m \u001b[0myaml\u001b[0m\u001b[0;34m.\u001b[0m\u001b[0msafe_load\u001b[0m\u001b[0;34m(\u001b[0m\u001b[0mf\u001b[0m\u001b[0;34m)\u001b[0m\u001b[0;34m\u001b[0m\u001b[0;34m\u001b[0m\u001b[0m\n\u001b[1;32m     26\u001b[0m \u001b[0;32mfor\u001b[0m \u001b[0mfilelist\u001b[0m \u001b[0;32min\u001b[0m \u001b[0mos\u001b[0m\u001b[0;34m.\u001b[0m\u001b[0mlistdir\u001b[0m\u001b[0;34m(\u001b[0m\u001b[0;34m\"ul_embedding_nano\"\u001b[0m\u001b[0;34m)\u001b[0m\u001b[0;34m:\u001b[0m\u001b[0;34m\u001b[0m\u001b[0;34m\u001b[0m\u001b[0m\n",
      "\u001b[0;31mFileNotFoundError\u001b[0m: [Errno 2] No such file or directory: '/work/sbrommer/ntuple_prototype/KingMaker/sample_database/datasets.yaml'"
     ]
    }
   ],
   "source": [
    "import yaml\n",
    "import os\n",
    "\n",
    "default_entry = {\n",
    "    \"dbs\":  \"/sample/not/published\",\n",
    "    \"era\":  2018,\n",
    "    \"generator_weight\":  1.0,\n",
    "    \"nevents\":  -1,\n",
    "    \"nfiles\":  -1,\n",
    "    \"nick\":  \"default\",\n",
    "    \"sample_type\":  \"embedding\",\n",
    "    \"xsec\":  1.0,\n",
    "}\n",
    "finalstate_names = {\n",
    "    \"MuTau\":\"TauEmbedding-MuTauFinalState\",\n",
    "  \"ElTau\":\"TauEmbedding-ElTauFinalState\",\n",
    "  \"ElMu\":\"TauEmbedding-ElMuFinalState\",\n",
    "  \"TauTau\":\"TauEmbedding-TauTauFinalState\",\n",
    "  \"MuEmb\": \"MuonEmbedding\",\n",
    "  \"ElEmb\": \"ElectronEmbedding\",\n",
    "}\n",
    "\n",
    "default_database = \"/work/sbrommer/smhtt_ul/ntuple_production/KingMaker_v4/sample_database/datasets.yaml\"\n",
    "with open(default_database, \"r\") as f:\n",
    "    database = yaml.safe_load(f)\n",
    "for filelist in os.listdir(\"ul_embedding_nano\"):\n",
    "    if filelist.endswith(\".dbs\"):\n",
    "        run = filelist.split(\"_\")[0]\n",
    "        finalstate = filelist.split(\"_\")[1].replace(\".dbs\", \"\")\n",
    "        files = []\n",
    "        events = 0\n",
    "        prefix = ''\n",
    "        with open(f\"ul_embedding_nano/{filelist}\", \"r\") as f:\n",
    "            lines = f.readlines()\n",
    "            preinfo = False\n",
    "            for line in lines:\n",
    "                if \"events =\" in line:\n",
    "                    events = line.split(\"=\")[1].strip()\n",
    "                if \"prefix =\" in line:\n",
    "                    prefix = line.split(\"=\")[1].strip()\n",
    "                    prefix = prefix.replace(\"/store/\", \"root://xrootd-cms.infn.it///store/\")\n",
    "                    preinfo = True\n",
    "                    continue\n",
    "                if preinfo:\n",
    "                    files.append(prefix + '/' + line.split(\" = \")[0].strip())\n",
    "        nfiles = len(files)\n",
    "        print(run, finalstate, nfiles, events)\n",
    "        entry = default_entry.copy()\n",
    "        era = int(run.replace(\"Run\", \"\")[:4])\n",
    "        entry[\"era\"] = era\n",
    "        entry[\"nick\"] = f\"{finalstate_names[finalstate]}_{run}-UL{era}\"\n",
    "        entry[\"nfiles\"] = nfiles\n",
    "        entry[\"nevents\"] = int(events)\n",
    "        entry[\"xsec\"] = 1.0\n",
    "        details = entry.copy()\n",
    "        details[\"filelist\"] = files\n",
    "        if  not os.path.exists(f\"ul_embedding_nano/test\"):\n",
    "            os.makedirs(f\"ul_embedding_nano/test\")\n",
    "        with open(f\"ul_embedding_nano/test/{run}_{finalstate}.yaml\", \"w\") as f:\n",
    "            yaml.dump(details, f)\n",
    "        database[entry[\"nick\"]] = (entry)\n",
    "        # copy the filelist to the database\n",
    "        basepath = \"/work/sbrommer/ntuple_prototype/KingMaker/sample_database/\"\n",
    "        if not os.path.exists(f\"{basepath}/{era}/embedding\"):\n",
    "            os.makedirs(f\"{basepath}/{era}/embedding\")\n",
    "        os.system(f\"cp ul_embedding_nano/test/{run}_{finalstate}.yaml {basepath}/{era}/embedding/{finalstate_names[finalstate]}_{run}-UL{era}.yaml\")\n",
    "with open(default_database, \"w\") as f:\n",
    "        yaml.dump(database, f)\n"
   ]
  },
  {
   "cell_type": "code",
   "execution_count": null,
   "metadata": {},
   "outputs": [],
   "source": []
  }
 ],
 "metadata": {
  "interpreter": {
   "hash": "4ca03565cb001f9cc386465f5e54fb9f7fe5a3d5ae5e1fc4757005751a17d9de"
  },
  "kernelspec": {
   "display_name": "Python 3.9.5 ('base': conda)",
   "language": "python",
   "name": "python3"
  },
  "language_info": {
   "codemirror_mode": {
    "name": "ipython",
    "version": 3
   },
   "file_extension": ".py",
   "mimetype": "text/x-python",
   "name": "python",
   "nbconvert_exporter": "python",
   "pygments_lexer": "ipython3",
   "version": "3.9.5"
  },
  "orig_nbformat": 4
 },
 "nbformat": 4,
 "nbformat_minor": 2
}
